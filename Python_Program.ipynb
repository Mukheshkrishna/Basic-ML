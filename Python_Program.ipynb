{
  "nbformat": 4,
  "nbformat_minor": 0,
  "metadata": {
    "colab": {
      "name": "Python Program.ipynb",
      "provenance": [],
      "authorship_tag": "ABX9TyMaoc1BAJBwN5B4DLOAW8OM",
      "include_colab_link": true
    },
    "kernelspec": {
      "name": "python3",
      "display_name": "Python 3"
    },
    "language_info": {
      "name": "python"
    }
  },
  "cells": [
    {
      "cell_type": "markdown",
      "metadata": {
        "id": "view-in-github",
        "colab_type": "text"
      },
      "source": [
        "<a href=\"https://colab.research.google.com/github/Mukheshkrishna/Basic-ML/blob/main/Python_Program.ipynb\" target=\"_parent\"><img src=\"https://colab.research.google.com/assets/colab-badge.svg\" alt=\"Open In Colab\"/></a>"
      ]
    },
    {
      "cell_type": "code",
      "metadata": {
        "id": "tMBVFlRS6e1h"
      },
      "source": [
        ""
      ],
      "execution_count": null,
      "outputs": []
    },
    {
      "cell_type": "markdown",
      "metadata": {
        "id": "ulSWpBmS6jFB"
      },
      "source": [
        "1. MAX OF TWO NUMBERS"
      ]
    },
    {
      "cell_type": "code",
      "metadata": {
        "colab": {
          "base_uri": "https://localhost:8080/"
        },
        "id": "xsJao8OS6n3W",
        "outputId": "dded9e24-3ea3-45f3-8c78-40118f7cde82"
      },
      "source": [
        "a=10\n",
        "b=20\n",
        "if(a>b):\n",
        "  print(\"max=\",a)\n",
        "else:\n",
        "  print(\"max=\",b)"
      ],
      "execution_count": 1,
      "outputs": [
        {
          "output_type": "stream",
          "text": [
            "max= 20\n"
          ],
          "name": "stdout"
        }
      ]
    },
    {
      "cell_type": "markdown",
      "metadata": {
        "id": "dJE1egTr622L"
      },
      "source": [
        "2. EVEN OR ODD"
      ]
    },
    {
      "cell_type": "code",
      "metadata": {
        "colab": {
          "base_uri": "https://localhost:8080/"
        },
        "id": "Zbt8r4sl68e3",
        "outputId": "079d95ea-c125-4472-e08d-97d957635e0d"
      },
      "source": [
        "n=10\n",
        "if(n%2==0):\n",
        "  print(\"Even\")\n",
        "else:\n",
        "  print(\"Odd\")"
      ],
      "execution_count": 2,
      "outputs": [
        {
          "output_type": "stream",
          "text": [
            "Even\n"
          ],
          "name": "stdout"
        }
      ]
    },
    {
      "cell_type": "markdown",
      "metadata": {
        "id": "9M-WN-gr7ERK"
      },
      "source": [
        "3. LEAP YEAR"
      ]
    },
    {
      "cell_type": "code",
      "metadata": {
        "colab": {
          "base_uri": "https://localhost:8080/"
        },
        "id": "JvSl_rAL7H_X",
        "outputId": "cd50ff61-dfb1-460d-ee21-a9b89f24f0cf"
      },
      "source": [
        "n=2020\n",
        "if(n%400==0 or n%4==0 and n%100!=0):\n",
        "  print(\"Leap year\")\n",
        "else:\n",
        "  print(\"not a leap year\")"
      ],
      "execution_count": 3,
      "outputs": [
        {
          "output_type": "stream",
          "text": [
            "Leap year\n"
          ],
          "name": "stdout"
        }
      ]
    }
  ]
}